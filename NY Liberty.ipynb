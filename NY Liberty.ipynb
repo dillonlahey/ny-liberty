{
 "cells": [
  {
   "cell_type": "markdown",
   "id": "3cadd70e-daaa-4f4f-9ac1-e1a6cada0b45",
   "metadata": {},
   "source": [
    "# Introduction\n",
    "\n",
    "The goal of this project is to analyze Women's National Basketball Association (WNBA) data, specifically for the New York Liberty.\n",
    "\n",
    "Here are a few questions that this project has sought to answer:\n",
    "- How have the Liberty performed historically?\n",
    "- Does assisting field goals have a significant effect on team performance?\n",
    "- Does scoring points off of turnovers have a significant effect on team performance?\n",
    "\n",
    "**Data Sources**\n",
    "The datasets 'AST_MASTER.csv' was provided by [Kaggle.com] (https://www.kaggle.com/)"
   ]
  },
  {
   "cell_type": "markdown",
   "id": "137252d7-5c95-4a6e-ac46-707f3e15efcf",
   "metadata": {},
   "source": [
    "## Import Python Modules\n",
    "Here we import the primary modules we will use in this project."
   ]
  },
  {
   "cell_type": "code",
   "execution_count": 2,
   "id": "73f08914-7214-4afd-8cd2-f32b68cba8d4",
   "metadata": {},
   "outputs": [],
   "source": [
    "import pandas as pd\n",
    "import numpy as np\n",
    "from scipy.stats import pearsonr\n",
    "from matplotlib import pyplot as plt\n",
    "import seaborn as sns\n",
    "\n",
    "%matplotlib inline"
   ]
  },
  {
   "cell_type": "markdown",
   "id": "6faedfcd-f399-4091-9185-02bcf8e8d021",
   "metadata": {},
   "source": [
    "## Load the Data\n",
    "Here we load the datasets into dataframes to easier analyze and visualize with Python."
   ]
  },
  {
   "cell_type": "markdown",
   "id": "05fc3c14-e84d-4afb-95ef-3dd400c5b2e5",
   "metadata": {},
   "source": [
    "# scoring\n",
    "The `AST_MASTER.csv` contains scoring statistics for each team in the WNBA from the 1997 season through the 2023 season."
   ]
  },
  {
   "cell_type": "code",
   "execution_count": 3,
   "id": "e029aa5c-c561-45e8-b1cc-7d38e86d25c7",
   "metadata": {},
   "outputs": [
    {
     "data": {
      "text/html": [
       "<div>\n",
       "<style scoped>\n",
       "    .dataframe tbody tr th:only-of-type {\n",
       "        vertical-align: middle;\n",
       "    }\n",
       "\n",
       "    .dataframe tbody tr th {\n",
       "        vertical-align: top;\n",
       "    }\n",
       "\n",
       "    .dataframe thead th {\n",
       "        text-align: right;\n",
       "    }\n",
       "</style>\n",
       "<table border=\"1\" class=\"dataframe\">\n",
       "  <thead>\n",
       "    <tr style=\"text-align: right;\">\n",
       "      <th></th>\n",
       "      <th>team</th>\n",
       "      <th>gp</th>\n",
       "      <th>w</th>\n",
       "      <th>l</th>\n",
       "      <th>min</th>\n",
       "      <th>fga_2pt</th>\n",
       "      <th>fga_3pt</th>\n",
       "      <th>pts_2pt</th>\n",
       "      <th>pts_2pt_-_mr</th>\n",
       "      <th>pts_3pt</th>\n",
       "      <th>...</th>\n",
       "      <th>pts_pitp</th>\n",
       "      <th>2fgm_ast</th>\n",
       "      <th>2fgm_uast</th>\n",
       "      <th>3fgm_ast</th>\n",
       "      <th>3fgm_uast</th>\n",
       "      <th>fgm_ast</th>\n",
       "      <th>fgm_uast</th>\n",
       "      <th>season_type</th>\n",
       "      <th>season</th>\n",
       "      <th>win_pct</th>\n",
       "    </tr>\n",
       "  </thead>\n",
       "  <tbody>\n",
       "    <tr>\n",
       "      <th>0</th>\n",
       "      <td>NEW YORK LIBERTY</td>\n",
       "      <td>28</td>\n",
       "      <td>17</td>\n",
       "      <td>11</td>\n",
       "      <td>40.5</td>\n",
       "      <td>80.3</td>\n",
       "      <td>19.7</td>\n",
       "      <td>64.4</td>\n",
       "      <td>13.6</td>\n",
       "      <td>14.6</td>\n",
       "      <td>...</td>\n",
       "      <td>50.8</td>\n",
       "      <td>64.8</td>\n",
       "      <td>35.2</td>\n",
       "      <td>92.5</td>\n",
       "      <td>7.5</td>\n",
       "      <td>68.4</td>\n",
       "      <td>31.6</td>\n",
       "      <td>Regular</td>\n",
       "      <td>1997</td>\n",
       "      <td>60.7</td>\n",
       "    </tr>\n",
       "    <tr>\n",
       "      <th>1</th>\n",
       "      <td>CHARLOTTE STING</td>\n",
       "      <td>28</td>\n",
       "      <td>15</td>\n",
       "      <td>13</td>\n",
       "      <td>40.0</td>\n",
       "      <td>80.6</td>\n",
       "      <td>19.4</td>\n",
       "      <td>64.6</td>\n",
       "      <td>14.5</td>\n",
       "      <td>17.5</td>\n",
       "      <td>...</td>\n",
       "      <td>50.1</td>\n",
       "      <td>64.0</td>\n",
       "      <td>36.0</td>\n",
       "      <td>86.4</td>\n",
       "      <td>13.6</td>\n",
       "      <td>67.5</td>\n",
       "      <td>32.5</td>\n",
       "      <td>Regular</td>\n",
       "      <td>1997</td>\n",
       "      <td>53.6</td>\n",
       "    </tr>\n",
       "    <tr>\n",
       "      <th>2</th>\n",
       "      <td>PHOENIX MERCURY</td>\n",
       "      <td>28</td>\n",
       "      <td>16</td>\n",
       "      <td>12</td>\n",
       "      <td>40.1</td>\n",
       "      <td>75.6</td>\n",
       "      <td>24.4</td>\n",
       "      <td>54.3</td>\n",
       "      <td>11.9</td>\n",
       "      <td>20.6</td>\n",
       "      <td>...</td>\n",
       "      <td>42.3</td>\n",
       "      <td>61.2</td>\n",
       "      <td>38.8</td>\n",
       "      <td>87.0</td>\n",
       "      <td>13.0</td>\n",
       "      <td>66.4</td>\n",
       "      <td>33.6</td>\n",
       "      <td>Regular</td>\n",
       "      <td>1997</td>\n",
       "      <td>57.1</td>\n",
       "    </tr>\n",
       "    <tr>\n",
       "      <th>3</th>\n",
       "      <td>UTAH STARZZ</td>\n",
       "      <td>28</td>\n",
       "      <td>7</td>\n",
       "      <td>21</td>\n",
       "      <td>40.4</td>\n",
       "      <td>80.4</td>\n",
       "      <td>19.6</td>\n",
       "      <td>62.0</td>\n",
       "      <td>13.8</td>\n",
       "      <td>17.6</td>\n",
       "      <td>...</td>\n",
       "      <td>48.2</td>\n",
       "      <td>59.9</td>\n",
       "      <td>40.1</td>\n",
       "      <td>84.0</td>\n",
       "      <td>16.0</td>\n",
       "      <td>63.7</td>\n",
       "      <td>36.3</td>\n",
       "      <td>Regular</td>\n",
       "      <td>1997</td>\n",
       "      <td>25.0</td>\n",
       "    </tr>\n",
       "    <tr>\n",
       "      <th>4</th>\n",
       "      <td>CLEVELAND ROCKERS</td>\n",
       "      <td>28</td>\n",
       "      <td>15</td>\n",
       "      <td>13</td>\n",
       "      <td>40.5</td>\n",
       "      <td>89.2</td>\n",
       "      <td>10.8</td>\n",
       "      <td>67.2</td>\n",
       "      <td>17.0</td>\n",
       "      <td>9.9</td>\n",
       "      <td>...</td>\n",
       "      <td>50.2</td>\n",
       "      <td>60.5</td>\n",
       "      <td>39.5</td>\n",
       "      <td>87.7</td>\n",
       "      <td>12.3</td>\n",
       "      <td>62.9</td>\n",
       "      <td>37.1</td>\n",
       "      <td>Regular</td>\n",
       "      <td>1997</td>\n",
       "      <td>53.6</td>\n",
       "    </tr>\n",
       "  </tbody>\n",
       "</table>\n",
       "<p>5 rows × 23 columns</p>\n",
       "</div>"
      ],
      "text/plain": [
       "                team  gp   w   l   min  fga_2pt  fga_3pt  pts_2pt  \\\n",
       "0   NEW YORK LIBERTY  28  17  11  40.5     80.3     19.7     64.4   \n",
       "1    CHARLOTTE STING  28  15  13  40.0     80.6     19.4     64.6   \n",
       "2    PHOENIX MERCURY  28  16  12  40.1     75.6     24.4     54.3   \n",
       "3        UTAH STARZZ  28   7  21  40.4     80.4     19.6     62.0   \n",
       "4  CLEVELAND ROCKERS  28  15  13  40.5     89.2     10.8     67.2   \n",
       "\n",
       "   pts_2pt_-_mr  pts_3pt  ...  pts_pitp  2fgm_ast  2fgm_uast  3fgm_ast  \\\n",
       "0          13.6     14.6  ...      50.8      64.8       35.2      92.5   \n",
       "1          14.5     17.5  ...      50.1      64.0       36.0      86.4   \n",
       "2          11.9     20.6  ...      42.3      61.2       38.8      87.0   \n",
       "3          13.8     17.6  ...      48.2      59.9       40.1      84.0   \n",
       "4          17.0      9.9  ...      50.2      60.5       39.5      87.7   \n",
       "\n",
       "   3fgm_uast  fgm_ast  fgm_uast  season_type  season  win_pct  \n",
       "0        7.5     68.4      31.6      Regular    1997     60.7  \n",
       "1       13.6     67.5      32.5      Regular    1997     53.6  \n",
       "2       13.0     66.4      33.6      Regular    1997     57.1  \n",
       "3       16.0     63.7      36.3      Regular    1997     25.0  \n",
       "4       12.3     62.9      37.1      Regular    1997     53.6  \n",
       "\n",
       "[5 rows x 23 columns]"
      ]
     },
     "execution_count": 3,
     "metadata": {},
     "output_type": "execute_result"
    }
   ],
   "source": [
    "scoring = pd.read_csv('AST_MASTER.csv',encoding='utf-8')\n",
    "scoring.columns = [c.replace(' ','_') for c in scoring.columns]\n",
    "scoring.columns = [c.lower() for c in scoring.columns]\n",
    "scoring.columns = [c.replace('%','') for c in scoring.columns]\n",
    "scoring['win_pct'] = ((scoring.w / scoring.gp) * 100).round(1)\n",
    "scoring.head()"
   ]
  },
  {
   "cell_type": "markdown",
   "id": "b16827ed-8a9b-4cc0-ab41-fedf60e0eef1",
   "metadata": {},
   "source": [
    "## Explore the Data\n",
    "Now we will dig further into the data. We see that there are 24 unique teams in the dataset, but the current state of the WNBA only has 12 Teams.  We will later filter out defunct franchises."
   ]
  },
  {
   "cell_type": "code",
   "execution_count": 5,
   "id": "447ff25d-a8e3-444c-a148-8a5498780d78",
   "metadata": {},
   "outputs": [
    {
     "name": "stdout",
     "output_type": "stream",
     "text": [
      "Number of teams: 24\n",
      "Teams: ['NEW YORK LIBERTY' 'CHARLOTTE STING' 'PHOENIX MERCURY' 'UTAH STARZZ'\n",
      " 'CLEVELAND ROCKERS' 'LOS ANGELES SPARKS' 'SACRAMENTO MONARCHS'\n",
      " 'HOUSTON COMETS' 'DETROIT SHOCK' 'WASHINGTON MYSTICS' 'MINNESOTA LYNX'\n",
      " 'ORLANDO MIRACLE' 'MIAMI SOL' 'PORTLAND FIRE' 'INDIANA FEVER'\n",
      " 'SEATTLE STORM' 'CONNECTICUT SUN' 'SAN ANTONIO SILVER STARS'\n",
      " 'CHICAGO SKY' 'ATLANTA DREAM' 'TULSA SHOCK' 'SAN ANTONIO STARS'\n",
      " 'DALLAS WINGS' 'LAS VEGAS ACES']\n"
     ]
    }
   ],
   "source": [
    "print(f\"Number of teams: {scoring.team.nunique()}\")\n",
    "print(f\"Teams: {scoring.team.unique()}\")"
   ]
  },
  {
   "cell_type": "markdown",
   "id": "415c1a86-1bc1-4f1f-9b5e-849df8348f2e",
   "metadata": {},
   "source": [
    "Below we can see that the `scoring` dataset contains information for both regular season and playoffs, resulting in a different overall sample size for teams that did and did not qualify for the postseason."
   ]
  },
  {
   "cell_type": "code",
   "execution_count": 6,
   "id": "43892c30-7bd9-42a3-af2c-6c3d420c2ad9",
   "metadata": {},
   "outputs": [
    {
     "name": "stdout",
     "output_type": "stream",
     "text": [
      "Number of Season Types: 2\n",
      "Teams: ['Regular' 'Playoffs']\n"
     ]
    }
   ],
   "source": [
    "print(f\"Number of Season Types: {scoring.season_type.nunique()}\")\n",
    "print(f\"Teams: {scoring.season_type.unique()}\")"
   ]
  },
  {
   "cell_type": "markdown",
   "id": "f90ad7c9-62e3-4931-83f9-64aa9f818705",
   "metadata": {},
   "source": [
    "We will be focusing primarily on the New York Liberty for this project, so we will now create a separate dataframe with just data of the Liberty."
   ]
  },
  {
   "cell_type": "code",
   "execution_count": 7,
   "id": "7ddac00d-e858-450f-870f-d91b79833a00",
   "metadata": {},
   "outputs": [
    {
     "data": {
      "text/html": [
       "<div>\n",
       "<style scoped>\n",
       "    .dataframe tbody tr th:only-of-type {\n",
       "        vertical-align: middle;\n",
       "    }\n",
       "\n",
       "    .dataframe tbody tr th {\n",
       "        vertical-align: top;\n",
       "    }\n",
       "\n",
       "    .dataframe thead th {\n",
       "        text-align: right;\n",
       "    }\n",
       "</style>\n",
       "<table border=\"1\" class=\"dataframe\">\n",
       "  <thead>\n",
       "    <tr style=\"text-align: right;\">\n",
       "      <th></th>\n",
       "      <th>team</th>\n",
       "      <th>gp</th>\n",
       "      <th>w</th>\n",
       "      <th>l</th>\n",
       "      <th>min</th>\n",
       "      <th>fga_2pt</th>\n",
       "      <th>fga_3pt</th>\n",
       "      <th>pts_2pt</th>\n",
       "      <th>pts_2pt_-_mr</th>\n",
       "      <th>pts_3pt</th>\n",
       "      <th>...</th>\n",
       "      <th>pts_pitp</th>\n",
       "      <th>2fgm_ast</th>\n",
       "      <th>2fgm_uast</th>\n",
       "      <th>3fgm_ast</th>\n",
       "      <th>3fgm_uast</th>\n",
       "      <th>fgm_ast</th>\n",
       "      <th>fgm_uast</th>\n",
       "      <th>season_type</th>\n",
       "      <th>season</th>\n",
       "      <th>win_pct</th>\n",
       "    </tr>\n",
       "  </thead>\n",
       "  <tbody>\n",
       "    <tr>\n",
       "      <th>0</th>\n",
       "      <td>NEW YORK LIBERTY</td>\n",
       "      <td>28</td>\n",
       "      <td>17</td>\n",
       "      <td>11</td>\n",
       "      <td>40.5</td>\n",
       "      <td>80.3</td>\n",
       "      <td>19.7</td>\n",
       "      <td>64.4</td>\n",
       "      <td>13.6</td>\n",
       "      <td>14.6</td>\n",
       "      <td>...</td>\n",
       "      <td>50.8</td>\n",
       "      <td>64.8</td>\n",
       "      <td>35.2</td>\n",
       "      <td>92.5</td>\n",
       "      <td>7.5</td>\n",
       "      <td>68.4</td>\n",
       "      <td>31.6</td>\n",
       "      <td>Regular</td>\n",
       "      <td>1997</td>\n",
       "      <td>60.7</td>\n",
       "    </tr>\n",
       "    <tr>\n",
       "      <th>10</th>\n",
       "      <td>NEW YORK LIBERTY</td>\n",
       "      <td>30</td>\n",
       "      <td>18</td>\n",
       "      <td>12</td>\n",
       "      <td>40.3</td>\n",
       "      <td>84.2</td>\n",
       "      <td>15.8</td>\n",
       "      <td>64.7</td>\n",
       "      <td>14.8</td>\n",
       "      <td>13.4</td>\n",
       "      <td>...</td>\n",
       "      <td>50.0</td>\n",
       "      <td>65.0</td>\n",
       "      <td>35.0</td>\n",
       "      <td>87.0</td>\n",
       "      <td>13.0</td>\n",
       "      <td>67.7</td>\n",
       "      <td>32.3</td>\n",
       "      <td>Regular</td>\n",
       "      <td>1998</td>\n",
       "      <td>60.0</td>\n",
       "    </tr>\n",
       "    <tr>\n",
       "      <th>23</th>\n",
       "      <td>NEW YORK LIBERTY</td>\n",
       "      <td>32</td>\n",
       "      <td>18</td>\n",
       "      <td>14</td>\n",
       "      <td>39.7</td>\n",
       "      <td>75.6</td>\n",
       "      <td>24.4</td>\n",
       "      <td>57.7</td>\n",
       "      <td>16.6</td>\n",
       "      <td>24.1</td>\n",
       "      <td>...</td>\n",
       "      <td>41.1</td>\n",
       "      <td>58.4</td>\n",
       "      <td>41.6</td>\n",
       "      <td>87.7</td>\n",
       "      <td>12.3</td>\n",
       "      <td>64.8</td>\n",
       "      <td>35.2</td>\n",
       "      <td>Regular</td>\n",
       "      <td>1999</td>\n",
       "      <td>56.2</td>\n",
       "    </tr>\n",
       "    <tr>\n",
       "      <th>40</th>\n",
       "      <td>NEW YORK LIBERTY</td>\n",
       "      <td>32</td>\n",
       "      <td>20</td>\n",
       "      <td>12</td>\n",
       "      <td>40.2</td>\n",
       "      <td>78.2</td>\n",
       "      <td>21.8</td>\n",
       "      <td>61.2</td>\n",
       "      <td>18.3</td>\n",
       "      <td>18.9</td>\n",
       "      <td>...</td>\n",
       "      <td>42.8</td>\n",
       "      <td>55.7</td>\n",
       "      <td>44.3</td>\n",
       "      <td>82.2</td>\n",
       "      <td>17.8</td>\n",
       "      <td>60.2</td>\n",
       "      <td>39.8</td>\n",
       "      <td>Regular</td>\n",
       "      <td>2000</td>\n",
       "      <td>62.5</td>\n",
       "    </tr>\n",
       "    <tr>\n",
       "      <th>48</th>\n",
       "      <td>NEW YORK LIBERTY</td>\n",
       "      <td>32</td>\n",
       "      <td>21</td>\n",
       "      <td>11</td>\n",
       "      <td>40.0</td>\n",
       "      <td>77.0</td>\n",
       "      <td>23.0</td>\n",
       "      <td>62.3</td>\n",
       "      <td>17.6</td>\n",
       "      <td>22.2</td>\n",
       "      <td>...</td>\n",
       "      <td>44.7</td>\n",
       "      <td>61.2</td>\n",
       "      <td>38.8</td>\n",
       "      <td>88.1</td>\n",
       "      <td>11.9</td>\n",
       "      <td>66.4</td>\n",
       "      <td>33.6</td>\n",
       "      <td>Regular</td>\n",
       "      <td>2001</td>\n",
       "      <td>65.6</td>\n",
       "    </tr>\n",
       "  </tbody>\n",
       "</table>\n",
       "<p>5 rows × 23 columns</p>\n",
       "</div>"
      ],
      "text/plain": [
       "                team  gp   w   l   min  fga_2pt  fga_3pt  pts_2pt  \\\n",
       "0   NEW YORK LIBERTY  28  17  11  40.5     80.3     19.7     64.4   \n",
       "10  NEW YORK LIBERTY  30  18  12  40.3     84.2     15.8     64.7   \n",
       "23  NEW YORK LIBERTY  32  18  14  39.7     75.6     24.4     57.7   \n",
       "40  NEW YORK LIBERTY  32  20  12  40.2     78.2     21.8     61.2   \n",
       "48  NEW YORK LIBERTY  32  21  11  40.0     77.0     23.0     62.3   \n",
       "\n",
       "    pts_2pt_-_mr  pts_3pt  ...  pts_pitp  2fgm_ast  2fgm_uast  3fgm_ast  \\\n",
       "0           13.6     14.6  ...      50.8      64.8       35.2      92.5   \n",
       "10          14.8     13.4  ...      50.0      65.0       35.0      87.0   \n",
       "23          16.6     24.1  ...      41.1      58.4       41.6      87.7   \n",
       "40          18.3     18.9  ...      42.8      55.7       44.3      82.2   \n",
       "48          17.6     22.2  ...      44.7      61.2       38.8      88.1   \n",
       "\n",
       "    3fgm_uast  fgm_ast  fgm_uast  season_type  season  win_pct  \n",
       "0         7.5     68.4      31.6      Regular    1997     60.7  \n",
       "10       13.0     67.7      32.3      Regular    1998     60.0  \n",
       "23       12.3     64.8      35.2      Regular    1999     56.2  \n",
       "40       17.8     60.2      39.8      Regular    2000     62.5  \n",
       "48       11.9     66.4      33.6      Regular    2001     65.6  \n",
       "\n",
       "[5 rows x 23 columns]"
      ]
     },
     "execution_count": 7,
     "metadata": {},
     "output_type": "execute_result"
    }
   ],
   "source": [
    "liberty = scoring[scoring.team == \"NEW YORK LIBERTY\"]\n",
    "liberty.head()"
   ]
  },
  {
   "cell_type": "markdown",
   "id": "d4e0d7af-1ede-42c1-ab09-75890f2cb391",
   "metadata": {},
   "source": [
    "The Liberty have been in the WNBA for 27 seasons. They have won just under half of their total games played. "
   ]
  },
  {
   "cell_type": "code",
   "execution_count": 8,
   "id": "13a3f039-eec5-40df-9a9a-db7b039b9f2a",
   "metadata": {},
   "outputs": [
    {
     "name": "stdout",
     "output_type": "stream",
     "text": [
      "Total Games Played (including Playoffs): 955\n",
      "Total Wins (including Playoffs): 476\n",
      "Total Losses (including Playoffs): 479\n",
      "Win Percentage (including Playoffs): 49.84%\n"
     ]
    }
   ],
   "source": [
    "total_gp = liberty.gp.sum()\n",
    "total_w = liberty.w.sum()\n",
    "total_l = liberty.l.sum()\n",
    "win_pct = ((total_w / total_gp) * 100).round(2)\n",
    "print(f\"Total Games Played (including Playoffs): {total_gp}\")\n",
    "print(f\"Total Wins (including Playoffs): {total_w}\")\n",
    "print(f\"Total Losses (including Playoffs): {total_l}\")\n",
    "print(f\"Win Percentage (including Playoffs): {win_pct}%\")"
   ]
  },
  {
   "cell_type": "markdown",
   "id": "f93a66ee-9891-4129-9746-f0d32b5f9617",
   "metadata": {},
   "source": [
    "We will now sort our data for the Liberty into two datasets to be able to analyze just the Playoffs and just the Regular Season independently."
   ]
  },
  {
   "cell_type": "code",
   "execution_count": 9,
   "id": "ab4d6849-7627-4907-9893-96fae64155c7",
   "metadata": {},
   "outputs": [
    {
     "name": "stdout",
     "output_type": "stream",
     "text": [
      "season_type\n",
      "Playoffs    15\n",
      "Regular     27\n",
      "dtype: int64\n"
     ]
    }
   ],
   "source": [
    "print(liberty.groupby(\"season_type\").size())\n",
    "liberty_reg = liberty[liberty.season_type == \"Regular\"]\n",
    "liberty_playoffs = liberty[liberty.season_type == \"Playoffs\"]"
   ]
  },
  {
   "cell_type": "markdown",
   "id": "213f0821-7150-4d17-b3f0-684965357b97",
   "metadata": {},
   "source": [
    "Below we see a plot comparing Win Percentage (%) by Year.  We can see that the Liberty have not been able to string together much success.  In the early 2000s every year of improvement was followed by a decline the following year or two."
   ]
  },
  {
   "cell_type": "code",
   "execution_count": 10,
   "id": "847ebdc2-7f6b-4ee8-a48f-13d243efb750",
   "metadata": {},
   "outputs": [
    {
     "data": {
      "image/png": "[encoded data removed]",
      "text/plain": [
       "<Figure size 640x480 with 1 Axes>"
      ]
     },
     "metadata": {},
     "output_type": "display_data"
    }
   ],
   "source": [
    "plt.plot(liberty_reg.season, liberty_reg.win_pct, marker='o')\n",
    "plt.title(\"Win Percentage By Year\")\n",
    "plt.xlabel(\"Year\")\n",
    "plt.xticks(np.arange(1997, 2024, 4))\n",
    "plt.yticks(np.arange(0, 110, 10))\n",
    "plt.ylabel(\"Win Percentage (%)\")\n",
    "plt.show()"
   ]
  },
  {
   "cell_type": "code",
   "execution_count": 11,
   "id": "905c7aca-7273-4212-9a4c-7cc5f9e67a88",
   "metadata": {},
   "outputs": [
    {
     "data": {
      "image/png": "[encoded data removed]",
      "text/plain": [
       "<Figure size 640x480 with 1 Axes>"
      ]
     },
     "metadata": {},
     "output_type": "display_data"
    }
   ],
   "source": [
    "sns.scatterplot(data=liberty_reg, x='win_pct', y='fgm_ast')\n",
    "sns.regplot(data=liberty_reg, x='win_pct', y='fgm_ast')\n",
    "plt.xticks(np.arange(0, 110, 10))\n",
    "plt.yticks(np.arange(0, 110, 10))\n",
    "plt.title(\"Percentage of Field Goals Assisted vs. Win Pct\")\n",
    "plt.xlabel(\"Win Percentage\")\n",
    "plt.ylabel(\"% of Made Field Goals Assisted\")\n",
    "plt.show()"
   ]
  },
  {
   "cell_type": "code",
   "execution_count": 12,
   "id": "87954a8f-a759-4854-92ab-8ddb1e7cafcd",
   "metadata": {},
   "outputs": [
    {
     "data": {
      "image/png": "[encoded data removed]",
      "text/plain": [
       "<Figure size 640x480 with 1 Axes>"
      ]
     },
     "metadata": {},
     "output_type": "display_data"
    }
   ],
   "source": [
    "sns.scatterplot(data=liberty_reg, x='win_pct', y='pts_offto')\n",
    "sns.regplot(data=liberty_reg, x='win_pct', y='pts_offto')\n",
    "plt.xticks(np.arange(0, 110, 10))\n",
    "plt.yticks(np.arange(0, 50, 10))\n",
    "plt.title(\"Average Points Off Turnovers vs. Win Pct\")\n",
    "plt.ylabel(\"Points off Turnovers\")\n",
    "plt.xlabel(\"Win Percentage\")\n",
    "plt.show()"
   ]
  },
  {
   "cell_type": "markdown",
   "id": "93257bae-d6ec-4d34-924f-2f32cb197bfb",
   "metadata": {},
   "source": [
    "## Analysis\n",
    "We will now assess the statistical significance of the above two relationships.  We will do so by calculating correlation coefficients and p-values.\n",
    "\n",
    "# Assisted Field Goals Made vs. Win Percentage\n",
    "As the p-value of the relationship is greater than 0.05, we can conclude that the correlation between the variables is not statistically significant.\n",
    "\n",
    "# Points of Turnovers vs. Win Percentage\n",
    "The p-value of this relationship is less than 0.05, so we can conclude that the correlation between these two variables is statistically significant."
   ]
  },
  {
   "cell_type": "code",
   "execution_count": 13,
   "id": "94d6d76a-85d1-4a5c-b95b-8b7b188abcb3",
   "metadata": {},
   "outputs": [
    {
     "name": "stdout",
     "output_type": "stream",
     "text": [
      "Correlation Coefficient: 0.18803531817071636\n",
      "p-value: 0.34760642872865605\n"
     ]
    }
   ],
   "source": [
    "correlation_coefficient, p_value = pearsonr(liberty_reg['win_pct'], liberty_reg['fgm_ast'])\n",
    "print(f\"Correlation Coefficient: {correlation_coefficient}\")\n",
    "print(f\"p-value: {p_value}\")"
   ]
  },
  {
   "cell_type": "code",
   "execution_count": 14,
   "id": "9c14e167-0621-47ab-95a2-17ffb9dda16b",
   "metadata": {},
   "outputs": [
    {
     "name": "stdout",
     "output_type": "stream",
     "text": [
      "Correlation Coefficient: 0.39161230708699624\n",
      "p-value: 0.043374136219972166\n"
     ]
    }
   ],
   "source": [
    "correlation_coefficient, p_value = pearsonr(liberty_reg['win_pct'], liberty_reg['pts_offto'])\n",
    "print(f\"Correlation Coefficient: {correlation_coefficient}\")\n",
    "print(f\"p-value: {p_value}\")"
   ]
  },
  {
   "cell_type": "markdown",
   "id": "0817c4b5-6b7a-49d9-8e67-9697982103fe",
   "metadata": {},
   "source": [
    "# Conclusion\n",
    "Although often a conversation point, based off of our statistical analysis there is not a statistically significant correlation between team wins and scoring points off of assists.\n",
    "\n",
    "We did find a statistical significance between points scored off of turnvovers and team wins. This sides along with expectations of the importance of defense in the modern game of basketball.\n",
    "\n",
    "This data analysis is by nature limited as the only data I had at hand was scoring related.  Therefore points scored off of turnovers served almost as a proxy for defensive performance."
   ]
  }
 ],
 "metadata": {
  "kernelspec": {
   "display_name": "Python 3 (ipykernel)",
   "language": "python",
   "name": "python3"
  },
  "language_info": {
   "codemirror_mode": {
    "name": "ipython",
    "version": 3
   },
   "file_extension": ".py",
   "mimetype": "text/x-python",
   "name": "python",
   "nbconvert_exporter": "python",
   "pygments_lexer": "ipython3",
   "version": "3.12.4"
  }
 },
 "nbformat": 4,
 "nbformat_minor": 5
}
